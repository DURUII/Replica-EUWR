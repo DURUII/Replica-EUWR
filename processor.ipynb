{
 "cells": [
  {
   "cell_type": "code",
   "execution_count": 1,
   "metadata": {},
   "outputs": [
    {
     "data": {
      "text/html": [
       "<div>\n",
       "<style scoped>\n",
       "    .dataframe tbody tr th:only-of-type {\n",
       "        vertical-align: middle;\n",
       "    }\n",
       "\n",
       "    .dataframe tbody tr th {\n",
       "        vertical-align: top;\n",
       "    }\n",
       "\n",
       "    .dataframe thead th {\n",
       "        text-align: right;\n",
       "    }\n",
       "</style>\n",
       "<table border=\"1\" class=\"dataframe\">\n",
       "  <thead>\n",
       "    <tr style=\"text-align: right;\">\n",
       "      <th></th>\n",
       "      <th>DRIVER_ID</th>\n",
       "      <th>TIMESTAMP</th>\n",
       "      <th>LATITUDE</th>\n",
       "      <th>LONGITUDE</th>\n",
       "    </tr>\n",
       "  </thead>\n",
       "  <tbody>\n",
       "    <tr>\n",
       "      <th>0</th>\n",
       "      <td>156</td>\n",
       "      <td>2014-02-01 00:00:00.739166+01:00</td>\n",
       "      <td>41.883672</td>\n",
       "      <td>12.487778</td>\n",
       "    </tr>\n",
       "    <tr>\n",
       "      <th>1</th>\n",
       "      <td>187</td>\n",
       "      <td>2014-02-01 00:00:01.148457+01:00</td>\n",
       "      <td>41.928543</td>\n",
       "      <td>12.469037</td>\n",
       "    </tr>\n",
       "    <tr>\n",
       "      <th>2</th>\n",
       "      <td>297</td>\n",
       "      <td>2014-02-01 00:00:01.220066+01:00</td>\n",
       "      <td>41.891069</td>\n",
       "      <td>12.492705</td>\n",
       "    </tr>\n",
       "    <tr>\n",
       "      <th>3</th>\n",
       "      <td>89</td>\n",
       "      <td>2014-02-01 00:00:01.470854+01:00</td>\n",
       "      <td>41.793177</td>\n",
       "      <td>12.432122</td>\n",
       "    </tr>\n",
       "    <tr>\n",
       "      <th>4</th>\n",
       "      <td>79</td>\n",
       "      <td>2014-02-01 00:00:01.631136+01:00</td>\n",
       "      <td>41.900275</td>\n",
       "      <td>12.462746</td>\n",
       "    </tr>\n",
       "    <tr>\n",
       "      <th>...</th>\n",
       "      <td>...</td>\n",
       "      <td>...</td>\n",
       "      <td>...</td>\n",
       "      <td>...</td>\n",
       "    </tr>\n",
       "    <tr>\n",
       "      <th>21817846</th>\n",
       "      <td>220</td>\n",
       "      <td>2014-03-02 23:59:58.282599+01:00</td>\n",
       "      <td>41.901199</td>\n",
       "      <td>12.484496</td>\n",
       "    </tr>\n",
       "    <tr>\n",
       "      <th>21817847</th>\n",
       "      <td>324</td>\n",
       "      <td>2014-03-02 23:59:58.460481+01:00</td>\n",
       "      <td>41.897262</td>\n",
       "      <td>12.472831</td>\n",
       "    </tr>\n",
       "    <tr>\n",
       "      <th>21817848</th>\n",
       "      <td>266</td>\n",
       "      <td>2014-03-02 23:59:58.468372+01:00</td>\n",
       "      <td>41.909772</td>\n",
       "      <td>12.529965</td>\n",
       "    </tr>\n",
       "    <tr>\n",
       "      <th>21817849</th>\n",
       "      <td>360</td>\n",
       "      <td>2014-03-02 23:59:58.886768+01:00</td>\n",
       "      <td>41.912769</td>\n",
       "      <td>12.417502</td>\n",
       "    </tr>\n",
       "    <tr>\n",
       "      <th>21817850</th>\n",
       "      <td>113</td>\n",
       "      <td>2014-03-02 23:59:58.943143+01:00</td>\n",
       "      <td>41.880361</td>\n",
       "      <td>12.508293</td>\n",
       "    </tr>\n",
       "  </tbody>\n",
       "</table>\n",
       "<p>21817851 rows × 4 columns</p>\n",
       "</div>"
      ],
      "text/plain": [
       "          DRIVER_ID                        TIMESTAMP   LATITUDE  LONGITUDE\n",
       "0               156 2014-02-01 00:00:00.739166+01:00  41.883672  12.487778\n",
       "1               187 2014-02-01 00:00:01.148457+01:00  41.928543  12.469037\n",
       "2               297 2014-02-01 00:00:01.220066+01:00  41.891069  12.492705\n",
       "3                89 2014-02-01 00:00:01.470854+01:00  41.793177  12.432122\n",
       "4                79 2014-02-01 00:00:01.631136+01:00  41.900275  12.462746\n",
       "...             ...                              ...        ...        ...\n",
       "21817846        220 2014-03-02 23:59:58.282599+01:00  41.901199  12.484496\n",
       "21817847        324 2014-03-02 23:59:58.460481+01:00  41.897262  12.472831\n",
       "21817848        266 2014-03-02 23:59:58.468372+01:00  41.909772  12.529965\n",
       "21817849        360 2014-03-02 23:59:58.886768+01:00  41.912769  12.417502\n",
       "21817850        113 2014-03-02 23:59:58.943143+01:00  41.880361  12.508293\n",
       "\n",
       "[21817851 rows x 4 columns]"
      ]
     },
     "execution_count": 1,
     "metadata": {},
     "output_type": "execute_result"
    }
   ],
   "source": [
    "import pandas as pd\n",
    "import os\n",
    "from dateutil import parser\n",
    "\n",
    "# dataset link: https://ieee-dataport.org/open-access/crawdad-romataxi\n",
    "if not os.path.exists('./dataset/taxi_february.pkl'):\n",
    "    df = pd.read_csv('./dataset/taxi_february.txt',\n",
    "                     sep=';', header=None,\n",
    "                     names=['DRIVER_ID', 'TIMESTAMP', 'POSITION'])\n",
    "\n",
    "    df['TIMESTAMP'] = df['TIMESTAMP'].apply(lambda x: parser.parse(x))\n",
    "\n",
    "    df[['LATITUDE', 'LONGITUDE']] = df['POSITION'].str.extract(\n",
    "        r'POINT\\(([^ ]+) ([^ ]+)\\)')\n",
    "    df['LATITUDE'] = df['LATITUDE'].astype(float)\n",
    "    df['LONGITUDE'] = df['LONGITUDE'].astype(float)\n",
    "    df = df.drop('POSITION', axis=1)\n",
    "\n",
    "    df.to_pickle('./dataset/taxi_february.pkl')\n",
    "\n",
    "df = pd.read_pickle('./dataset/taxi_february.pkl')\n",
    "df"
   ]
  },
  {
   "cell_type": "code",
   "execution_count": 2,
   "metadata": {},
   "outputs": [
    {
     "data": {
      "text/plain": [
       "30"
      ]
     },
     "execution_count": 2,
     "metadata": {},
     "output_type": "execute_result"
    }
   ],
   "source": [
    "df['TIMESTAMP'].dt.date.nunique()"
   ]
  },
  {
   "cell_type": "code",
   "execution_count": 3,
   "metadata": {},
   "outputs": [
    {
     "data": {
      "text/plain": [
       "(316,\n",
       " array([156, 187, 297,  89,  79, 191, 343, 341, 260,  59, 122, 311, 351,\n",
       "         58, 196, 105, 331, 362, 188, 172, 352, 361, 321, 318, 317, 368,\n",
       "        295, 197, 298, 232, 315,   2, 135, 248, 132, 104, 234, 357, 281,\n",
       "         53, 257,  37, 224, 178, 174,  61, 291, 365,  94, 228, 259, 193,\n",
       "         80, 137,  24, 124, 162,  71,  46, 127, 155,  70, 359, 290,  11,\n",
       "        149,  72, 254, 353,  45,  51, 153, 275, 101, 310, 256,  50,  67,\n",
       "        112, 160,  95,  12,  83,  68,  84, 109, 336, 229, 202, 211, 103,\n",
       "        102,  47, 335, 326, 128, 363,  31, 140,  19, 121, 269, 309,  93,\n",
       "        163, 214,  43, 293, 305, 322, 179, 274,   8, 134,  13, 150, 255,\n",
       "        264, 252, 213, 348, 159,  96,  91, 289, 243,  74, 306, 366,  65,\n",
       "        329, 185,  14,  78,  66, 249, 180, 280,  99, 350, 316, 334, 167,\n",
       "        157, 120, 190, 282, 288, 342, 283, 360,  92, 250, 268, 330, 355,\n",
       "        192, 170,   7, 273, 175, 235,  73, 344, 346, 266, 169, 223,  21,\n",
       "          3,  85, 324, 337, 198,  81,  87, 113,  62, 143, 154, 220, 139,\n",
       "        199,  22, 119, 241,  40, 106, 200, 225,  54, 129,  42, 238, 115,\n",
       "        294, 222, 203, 246, 340, 287, 151,  60, 148, 182,  55, 130, 270,\n",
       "        332, 226,  97, 239, 138,  82, 231, 100, 181, 339, 338, 323, 367,\n",
       "        195,  56, 356, 194, 186, 237, 230,  48,  28,  23, 117, 158,  29,\n",
       "        267, 145, 276, 147, 152, 240, 221,   4, 262, 110,  57, 261, 183,\n",
       "         39, 308, 131,  32,  17, 320, 141, 184,  49, 171, 300, 123, 245,\n",
       "        204,  30, 206,  88, 258, 278,  76, 125, 126, 285, 313, 302, 314,\n",
       "        301, 244, 279, 215,  41, 347,  44, 107,  90, 209, 176, 284, 325,\n",
       "        118, 328, 242, 212, 358, 349,  75, 369, 144, 210, 205, 236, 345,\n",
       "        217, 208, 312, 111, 303, 166, 233, 201, 173, 370, 253, 304, 371,\n",
       "        372, 373, 374, 296]))"
      ]
     },
     "execution_count": 3,
     "metadata": {},
     "output_type": "execute_result"
    }
   ],
   "source": [
    "df['DRIVER_ID'].nunique(), df['DRIVER_ID'].unique()"
   ]
  },
  {
   "cell_type": "code",
   "execution_count": 23,
   "metadata": {},
   "outputs": [],
   "source": [
    "# hourly data volumn"
   ]
  },
  {
   "cell_type": "code",
   "execution_count": null,
   "metadata": {},
   "outputs": [],
   "source": []
  }
 ],
 "metadata": {
  "kernelspec": {
   "display_name": "base",
   "language": "python",
   "name": "python3"
  },
  "language_info": {
   "codemirror_mode": {
    "name": "ipython",
    "version": 3
   },
   "file_extension": ".py",
   "mimetype": "text/x-python",
   "name": "python",
   "nbconvert_exporter": "python",
   "pygments_lexer": "ipython3",
   "version": "3.11.4"
  },
  "orig_nbformat": 4
 },
 "nbformat": 4,
 "nbformat_minor": 2
}
